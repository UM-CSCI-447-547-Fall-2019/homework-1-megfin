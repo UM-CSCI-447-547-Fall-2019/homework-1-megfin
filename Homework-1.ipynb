{
 "cells": [
  {
   "cell_type": "markdown",
   "metadata": {},
   "source": [
    "# Homework 1: Reading data and regression\n",
    "## Due September 5th\n",
    "\n",
    "In class we've been working on developing the tools for linear regression.  In this homework, we'll use those tools to show that one of the original 'big data' problems can be solved quite credibly with ordinary least squares.  Note that this exercise is primarily intended to do two things: 1) provide you with some practice gathering data, and 2) evaluate your ability to reason somewhat abstractly about models.  With respect to the second point, it is in your grade's interest to provide complete and well-reasoned answers to narrative questions posed.  A correct answer can be awarded very few points if its reasoning is absent or unclear, and an incorrect answer can be awarded full points if it is well argued.   \n",
    "\n",
    "Please turn in your work via github classroom.\n",
    "\n",
    "## The big one\n",
    "If you've ever lived in an area prone to seismic activity, you know that people are always a little apprehensive about *the big one*, that giant earthquake (Magnitude greater than 7) that is going to break the pots and collapse the overpasses.  However, the big one rarely happens... until it does.  What happens more frequently is smaller earthquakes.  And even more frequently than that, even smaller earthquakes.  In fact, it's long been understood that earthquake frequency has an inverse relationship with magnitude.  Here, we're going to quantify that relationship for the west coast of the US.  \n",
    "\n",
    "## Data wrangling\n",
    "The first thing that we'll need to do is to aquire a dataset that can help us say something about earthquake frequency.  Fortunately, the United States Geologic Survey keeps such a database.  \n",
    "\n",
    "First, navigate to https://earthquake.usgs.gov/earthquakes/search/.  This is the USGS' central repository for earthquake data.  We'll be interested in data from the last twenty years.  Enter the appropriate date.  Next, we're interested in data from the west coast of the lower 48.  Use the Custom Geographic Region button on the right side of the page, followed by the Draw Rectangle on the Map button.  Draw a rectangle around the west coast, from the Canadian to Mexican border.  Next, open the Output Options tab and select .csv (comma separated values, a plain text format).  Finally, under Limit Results, enter 19999 (the site will throw an error if you make this value bigger).  This series of commands will deliver the ~20k most recent earthquakes of all sizes to occur in this region of the world.  It may take a moment for their server to pull your query together. Download the file.\n",
    "\n",
    "Next, import the data into ipython.  This is easily done with [Pandas' read_csv function](https://pandas.pydata.org/pandas-docs/stable/reference/api/pandas.read_csv.html)."
   ]
  },
  {
   "cell_type": "code",
   "execution_count": 1,
   "metadata": {},
   "outputs": [
    {
     "data": {
      "text/html": [
       "<div>\n",
       "<style scoped>\n",
       "    .dataframe tbody tr th:only-of-type {\n",
       "        vertical-align: middle;\n",
       "    }\n",
       "\n",
       "    .dataframe tbody tr th {\n",
       "        vertical-align: top;\n",
       "    }\n",
       "\n",
       "    .dataframe thead th {\n",
       "        text-align: right;\n",
       "    }\n",
       "</style>\n",
       "<table border=\"1\" class=\"dataframe\">\n",
       "  <thead>\n",
       "    <tr style=\"text-align: right;\">\n",
       "      <th></th>\n",
       "      <th>time</th>\n",
       "      <th>latitude</th>\n",
       "      <th>longitude</th>\n",
       "      <th>depth</th>\n",
       "      <th>mag</th>\n",
       "      <th>magType</th>\n",
       "      <th>nst</th>\n",
       "      <th>gap</th>\n",
       "      <th>dmin</th>\n",
       "      <th>rms</th>\n",
       "      <th>...</th>\n",
       "      <th>updated</th>\n",
       "      <th>place</th>\n",
       "      <th>type</th>\n",
       "      <th>horizontalError</th>\n",
       "      <th>depthError</th>\n",
       "      <th>magError</th>\n",
       "      <th>magNst</th>\n",
       "      <th>status</th>\n",
       "      <th>locationSource</th>\n",
       "      <th>magSource</th>\n",
       "    </tr>\n",
       "  </thead>\n",
       "  <tbody>\n",
       "    <tr>\n",
       "      <th>0</th>\n",
       "      <td>2019-08-30T16:38:20.570Z</td>\n",
       "      <td>37.466667</td>\n",
       "      <td>-118.844002</td>\n",
       "      <td>5.23</td>\n",
       "      <td>2.64</td>\n",
       "      <td>md</td>\n",
       "      <td>24.0</td>\n",
       "      <td>134.0</td>\n",
       "      <td>0.12370</td>\n",
       "      <td>0.05</td>\n",
       "      <td>...</td>\n",
       "      <td>2019-08-30T18:53:02.897Z</td>\n",
       "      <td>18km SW of Toms Place, CA</td>\n",
       "      <td>earthquake</td>\n",
       "      <td>0.31</td>\n",
       "      <td>2.13</td>\n",
       "      <td>0.280</td>\n",
       "      <td>25.0</td>\n",
       "      <td>automatic</td>\n",
       "      <td>nc</td>\n",
       "      <td>nc</td>\n",
       "    </tr>\n",
       "    <tr>\n",
       "      <th>1</th>\n",
       "      <td>2019-08-30T14:52:41.390Z</td>\n",
       "      <td>37.364834</td>\n",
       "      <td>-118.525169</td>\n",
       "      <td>10.72</td>\n",
       "      <td>2.50</td>\n",
       "      <td>ml</td>\n",
       "      <td>21.0</td>\n",
       "      <td>201.0</td>\n",
       "      <td>0.03251</td>\n",
       "      <td>0.05</td>\n",
       "      <td>...</td>\n",
       "      <td>2019-08-30T17:15:03.593Z</td>\n",
       "      <td>6km W of West Bishop, CA</td>\n",
       "      <td>earthquake</td>\n",
       "      <td>0.86</td>\n",
       "      <td>1.22</td>\n",
       "      <td>0.137</td>\n",
       "      <td>12.0</td>\n",
       "      <td>automatic</td>\n",
       "      <td>nc</td>\n",
       "      <td>nc</td>\n",
       "    </tr>\n",
       "    <tr>\n",
       "      <th>2</th>\n",
       "      <td>2019-08-30T11:58:32.990Z</td>\n",
       "      <td>35.709500</td>\n",
       "      <td>-117.550167</td>\n",
       "      <td>7.45</td>\n",
       "      <td>2.72</td>\n",
       "      <td>ml</td>\n",
       "      <td>40.0</td>\n",
       "      <td>57.0</td>\n",
       "      <td>0.08862</td>\n",
       "      <td>0.22</td>\n",
       "      <td>...</td>\n",
       "      <td>2019-08-30T12:09:32.320Z</td>\n",
       "      <td>15km WSW of Searles Valley, CA</td>\n",
       "      <td>earthquake</td>\n",
       "      <td>0.28</td>\n",
       "      <td>1.02</td>\n",
       "      <td>0.162</td>\n",
       "      <td>24.0</td>\n",
       "      <td>automatic</td>\n",
       "      <td>ci</td>\n",
       "      <td>ci</td>\n",
       "    </tr>\n",
       "    <tr>\n",
       "      <th>3</th>\n",
       "      <td>2019-08-30T08:55:41.140Z</td>\n",
       "      <td>35.613833</td>\n",
       "      <td>-117.404667</td>\n",
       "      <td>2.38</td>\n",
       "      <td>2.58</td>\n",
       "      <td>ml</td>\n",
       "      <td>36.0</td>\n",
       "      <td>85.0</td>\n",
       "      <td>0.05347</td>\n",
       "      <td>0.17</td>\n",
       "      <td>...</td>\n",
       "      <td>2019-08-30T09:06:38.950Z</td>\n",
       "      <td>17km S of Trona, CA</td>\n",
       "      <td>earthquake</td>\n",
       "      <td>0.25</td>\n",
       "      <td>0.40</td>\n",
       "      <td>0.173</td>\n",
       "      <td>25.0</td>\n",
       "      <td>automatic</td>\n",
       "      <td>ci</td>\n",
       "      <td>ci</td>\n",
       "    </tr>\n",
       "    <tr>\n",
       "      <th>4</th>\n",
       "      <td>2019-08-29T17:17:48.550Z</td>\n",
       "      <td>34.018000</td>\n",
       "      <td>-117.119333</td>\n",
       "      <td>8.96</td>\n",
       "      <td>2.98</td>\n",
       "      <td>ml</td>\n",
       "      <td>136.0</td>\n",
       "      <td>14.0</td>\n",
       "      <td>0.01835</td>\n",
       "      <td>0.18</td>\n",
       "      <td>...</td>\n",
       "      <td>2019-08-30T17:19:41.163Z</td>\n",
       "      <td>6km SSE of Mentone, CA</td>\n",
       "      <td>earthquake</td>\n",
       "      <td>0.10</td>\n",
       "      <td>0.25</td>\n",
       "      <td>0.128</td>\n",
       "      <td>181.0</td>\n",
       "      <td>reviewed</td>\n",
       "      <td>ci</td>\n",
       "      <td>ci</td>\n",
       "    </tr>\n",
       "    <tr>\n",
       "      <th>5</th>\n",
       "      <td>2019-08-29T03:23:49.220Z</td>\n",
       "      <td>35.762500</td>\n",
       "      <td>-117.591833</td>\n",
       "      <td>2.31</td>\n",
       "      <td>2.91</td>\n",
       "      <td>ml</td>\n",
       "      <td>39.0</td>\n",
       "      <td>54.0</td>\n",
       "      <td>0.05333</td>\n",
       "      <td>0.17</td>\n",
       "      <td>...</td>\n",
       "      <td>2019-08-29T17:36:07.235Z</td>\n",
       "      <td>17km W of Searles Valley, CA</td>\n",
       "      <td>earthquake</td>\n",
       "      <td>0.19</td>\n",
       "      <td>0.40</td>\n",
       "      <td>0.190</td>\n",
       "      <td>25.0</td>\n",
       "      <td>automatic</td>\n",
       "      <td>ci</td>\n",
       "      <td>ci</td>\n",
       "    </tr>\n",
       "    <tr>\n",
       "      <th>6</th>\n",
       "      <td>2019-08-28T10:19:26.860Z</td>\n",
       "      <td>36.575333</td>\n",
       "      <td>-117.977667</td>\n",
       "      <td>7.63</td>\n",
       "      <td>2.60</td>\n",
       "      <td>ml</td>\n",
       "      <td>23.0</td>\n",
       "      <td>98.0</td>\n",
       "      <td>0.14290</td>\n",
       "      <td>0.18</td>\n",
       "      <td>...</td>\n",
       "      <td>2019-08-28T18:39:05.277Z</td>\n",
       "      <td>8km E of Lone Pine, CA</td>\n",
       "      <td>earthquake</td>\n",
       "      <td>0.27</td>\n",
       "      <td>0.73</td>\n",
       "      <td>0.219</td>\n",
       "      <td>65.0</td>\n",
       "      <td>reviewed</td>\n",
       "      <td>ci</td>\n",
       "      <td>ci</td>\n",
       "    </tr>\n",
       "    <tr>\n",
       "      <th>7</th>\n",
       "      <td>2019-08-28T10:14:45.330Z</td>\n",
       "      <td>36.574000</td>\n",
       "      <td>-117.981000</td>\n",
       "      <td>8.83</td>\n",
       "      <td>2.55</td>\n",
       "      <td>ml</td>\n",
       "      <td>24.0</td>\n",
       "      <td>98.0</td>\n",
       "      <td>0.14530</td>\n",
       "      <td>0.16</td>\n",
       "      <td>...</td>\n",
       "      <td>2019-08-28T18:17:32.671Z</td>\n",
       "      <td>8km E of Lone Pine, CA</td>\n",
       "      <td>earthquake</td>\n",
       "      <td>0.25</td>\n",
       "      <td>0.48</td>\n",
       "      <td>0.200</td>\n",
       "      <td>60.0</td>\n",
       "      <td>reviewed</td>\n",
       "      <td>ci</td>\n",
       "      <td>ci</td>\n",
       "    </tr>\n",
       "    <tr>\n",
       "      <th>8</th>\n",
       "      <td>2019-08-28T02:23:14.390Z</td>\n",
       "      <td>36.135833</td>\n",
       "      <td>-117.975000</td>\n",
       "      <td>4.59</td>\n",
       "      <td>3.29</td>\n",
       "      <td>ml</td>\n",
       "      <td>46.0</td>\n",
       "      <td>69.0</td>\n",
       "      <td>0.09896</td>\n",
       "      <td>0.15</td>\n",
       "      <td>...</td>\n",
       "      <td>2019-08-28T14:32:44.630Z</td>\n",
       "      <td>10km NNW of Coso Junction, CA</td>\n",
       "      <td>earthquake</td>\n",
       "      <td>0.14</td>\n",
       "      <td>0.61</td>\n",
       "      <td>0.160</td>\n",
       "      <td>85.0</td>\n",
       "      <td>reviewed</td>\n",
       "      <td>ci</td>\n",
       "      <td>ci</td>\n",
       "    </tr>\n",
       "    <tr>\n",
       "      <th>9</th>\n",
       "      <td>2019-08-27T14:39:37.320Z</td>\n",
       "      <td>35.669667</td>\n",
       "      <td>-117.537500</td>\n",
       "      <td>9.51</td>\n",
       "      <td>2.62</td>\n",
       "      <td>ml</td>\n",
       "      <td>38.0</td>\n",
       "      <td>38.0</td>\n",
       "      <td>0.05405</td>\n",
       "      <td>0.21</td>\n",
       "      <td>...</td>\n",
       "      <td>2019-08-27T18:38:50.786Z</td>\n",
       "      <td>14km ENE of Ridgecrest, CA</td>\n",
       "      <td>earthquake</td>\n",
       "      <td>0.27</td>\n",
       "      <td>0.63</td>\n",
       "      <td>0.170</td>\n",
       "      <td>25.0</td>\n",
       "      <td>automatic</td>\n",
       "      <td>ci</td>\n",
       "      <td>ci</td>\n",
       "    </tr>\n",
       "  </tbody>\n",
       "</table>\n",
       "<p>10 rows × 22 columns</p>\n",
       "</div>"
      ],
      "text/plain": [
       "                       time   latitude   longitude  depth   mag magType  \\\n",
       "0  2019-08-30T16:38:20.570Z  37.466667 -118.844002   5.23  2.64      md   \n",
       "1  2019-08-30T14:52:41.390Z  37.364834 -118.525169  10.72  2.50      ml   \n",
       "2  2019-08-30T11:58:32.990Z  35.709500 -117.550167   7.45  2.72      ml   \n",
       "3  2019-08-30T08:55:41.140Z  35.613833 -117.404667   2.38  2.58      ml   \n",
       "4  2019-08-29T17:17:48.550Z  34.018000 -117.119333   8.96  2.98      ml   \n",
       "5  2019-08-29T03:23:49.220Z  35.762500 -117.591833   2.31  2.91      ml   \n",
       "6  2019-08-28T10:19:26.860Z  36.575333 -117.977667   7.63  2.60      ml   \n",
       "7  2019-08-28T10:14:45.330Z  36.574000 -117.981000   8.83  2.55      ml   \n",
       "8  2019-08-28T02:23:14.390Z  36.135833 -117.975000   4.59  3.29      ml   \n",
       "9  2019-08-27T14:39:37.320Z  35.669667 -117.537500   9.51  2.62      ml   \n",
       "\n",
       "     nst    gap     dmin   rms  ...                   updated  \\\n",
       "0   24.0  134.0  0.12370  0.05  ...  2019-08-30T18:53:02.897Z   \n",
       "1   21.0  201.0  0.03251  0.05  ...  2019-08-30T17:15:03.593Z   \n",
       "2   40.0   57.0  0.08862  0.22  ...  2019-08-30T12:09:32.320Z   \n",
       "3   36.0   85.0  0.05347  0.17  ...  2019-08-30T09:06:38.950Z   \n",
       "4  136.0   14.0  0.01835  0.18  ...  2019-08-30T17:19:41.163Z   \n",
       "5   39.0   54.0  0.05333  0.17  ...  2019-08-29T17:36:07.235Z   \n",
       "6   23.0   98.0  0.14290  0.18  ...  2019-08-28T18:39:05.277Z   \n",
       "7   24.0   98.0  0.14530  0.16  ...  2019-08-28T18:17:32.671Z   \n",
       "8   46.0   69.0  0.09896  0.15  ...  2019-08-28T14:32:44.630Z   \n",
       "9   38.0   38.0  0.05405  0.21  ...  2019-08-27T18:38:50.786Z   \n",
       "\n",
       "                            place        type horizontalError depthError  \\\n",
       "0       18km SW of Toms Place, CA  earthquake            0.31       2.13   \n",
       "1        6km W of West Bishop, CA  earthquake            0.86       1.22   \n",
       "2  15km WSW of Searles Valley, CA  earthquake            0.28       1.02   \n",
       "3             17km S of Trona, CA  earthquake            0.25       0.40   \n",
       "4          6km SSE of Mentone, CA  earthquake            0.10       0.25   \n",
       "5    17km W of Searles Valley, CA  earthquake            0.19       0.40   \n",
       "6          8km E of Lone Pine, CA  earthquake            0.27       0.73   \n",
       "7          8km E of Lone Pine, CA  earthquake            0.25       0.48   \n",
       "8   10km NNW of Coso Junction, CA  earthquake            0.14       0.61   \n",
       "9      14km ENE of Ridgecrest, CA  earthquake            0.27       0.63   \n",
       "\n",
       "   magError  magNst     status  locationSource magSource  \n",
       "0     0.280    25.0  automatic              nc        nc  \n",
       "1     0.137    12.0  automatic              nc        nc  \n",
       "2     0.162    24.0  automatic              ci        ci  \n",
       "3     0.173    25.0  automatic              ci        ci  \n",
       "4     0.128   181.0   reviewed              ci        ci  \n",
       "5     0.190    25.0  automatic              ci        ci  \n",
       "6     0.219    65.0   reviewed              ci        ci  \n",
       "7     0.200    60.0   reviewed              ci        ci  \n",
       "8     0.160    85.0   reviewed              ci        ci  \n",
       "9     0.170    25.0  automatic              ci        ci  \n",
       "\n",
       "[10 rows x 22 columns]"
      ]
     },
     "execution_count": 1,
     "metadata": {},
     "output_type": "execute_result"
    }
   ],
   "source": [
    "# Use pandas to import the earthquake data file here\n",
    "import pandas as pd\n",
    "\n",
    "data = pd.read_csv('C:/Users/finst/Documents/Fall2019/CSCI547_MachineLearning/Data/earthquakes.csv',header=0,sep=(\",\"),engine='python')\n",
    "data[:10]\n"
   ]
  },
  {
   "cell_type": "markdown",
   "metadata": {},
   "source": [
    "Interrogate the Pandas dataframe for the available fields using its built in method 'keys'\n"
   ]
  },
  {
   "cell_type": "code",
   "execution_count": 2,
   "metadata": {},
   "outputs": [],
   "source": [
    "data.keys()\n",
    "mag = data['mag'].astype('float')\n",
    "\n"
   ]
  },
  {
   "cell_type": "markdown",
   "metadata": {},
   "source": [
    "We're primarily interested in determining the relationship between relative frequency and magnitude.  Extract the magnitude variable from the pandas data frame using the 'mag' key.  \n",
    "\n",
    "Next, you'll need to determine the number of earthquakes that occured in the data as a function of magnitude.  This is easily done by deciding on a set of bins, and then counting the number of items in each bin.  This is also known as a [histogram](https://docs.scipy.org/doc/numpy/reference/generated/numpy.histogram.html), and is easily computed using either numpy or matplotlib.  You'll want to use a fairly large number of bins, say 50 (equally spaced).  *Note that the histogram function provided by either of the above libraries returns total counts rather than relative frequencies: you'll need to compute relative frequencies by dividing the returned counts by the total number of earthquakes in the dataset.*"
   ]
  },
  {
   "cell_type": "code",
   "execution_count": 14,
   "metadata": {},
   "outputs": [],
   "source": [
    "import numpy as np\n",
    "def frequency_in_intervals(bins):\n",
    "    mag_min = min(mag)-.01\n",
    "    mag_max = max(mag)+.01\n",
    "    range_mag = (mag_max - mag_min)\n",
    "    intervals = [(mag_min+i*(range_mag/bins), mag_min+(i+1)*(range_mag/bins)) for i in range(bins)]\n",
    "\n",
    "    histogramDict = {}\n",
    "    intervalSums = []\n",
    "    relativeFreq = []\n",
    "\n",
    "    for interval in intervals:\n",
    "        histogramDict[interval] = [0]\n",
    "\n",
    "    for interval in histogramDict:\n",
    "        for j in range(len(mag)):\n",
    "            if mag[j]> interval[0] and mag[j] <= interval[1]:\n",
    "                histogramDict[interval] += [True]\n",
    "            else:\n",
    "                histogramDict[interval] += [False]\n",
    "        intervalSums.append(sum(histogramDict[interval]))\n",
    "        relativeFreq.append(sum(histogramDict[interval])/len(mag))\n",
    "\n",
    "    return relativeFreq, intervals\n",
    "\n",
    "relativeFreq, intervals = frequency_in_intervals(50)\n"
   ]
  },
  {
   "cell_type": "code",
   "execution_count": 15,
   "metadata": {},
   "outputs": [
    {
     "name": "stdout",
     "output_type": "stream",
     "text": [
      "[0.19125956297814892, 0.15770788539426972, 0.12680634031701585, 0.10790539526976349, 0.09775488774438722, 0.0664033201660083, 0.04675233761688084, 0.03805190259512976, 0.03265163258162908, 0.024701235061753087, 0.024201210060503024, 0.013950697534876743, 0.016050802540127005, 0.009850492524626232, 0.009150457522876144, 0.007100355017750888, 0.005800290014500725, 0.005400270013500675, 0.0037001850092504623, 0.0030501525076253814, 0.00280014000700035, 0.0024001200060003, 0.0013500675033751687, 0.0011500575028751438, 0.0008500425021251062, 0.0005500275013750688, 0.00040002000100005, 0.00045002250112505623, 0.00025001250062503126, 0.000200010000500025, 0.00015000750037501875, 0.00040002000100005, 0.00015000750037501875, 0.000200010000500025, 0.0001000050002500125, 0.0, 5.000250012500625e-05, 5.000250012500625e-05, 5.000250012500625e-05, 0.0, 0.0, 0.0, 5.000250012500625e-05, 5.000250012500625e-05, 0.0, 0.0, 5.000250012500625e-05, 0.0, 0.0, 5.000250012500625e-05] [(2.49, 2.5824000000000003), (2.5824000000000003, 2.6748000000000003), (2.6748000000000003, 2.7672000000000003), (2.7672000000000003, 2.8596000000000004), (2.8596000000000004, 2.952), (2.952, 3.0444), (3.0444, 3.1368), (3.1368, 3.2292), (3.2292, 3.3216), (3.3216, 3.414), (3.414, 3.5064), (3.5064, 3.5987999999999998), (3.5987999999999998, 3.6912000000000003), (3.6912000000000003, 3.7836), (3.7836, 3.876), (3.876, 3.9684), (3.9684, 4.0608), (4.0608, 4.1532), (4.1532, 4.2456), (4.2456, 4.338), (4.338, 4.4304), (4.4304, 4.5228), (4.5228, 4.6152), (4.6152, 4.707599999999999), (4.707599999999999, 4.8), (4.8, 4.8924), (4.8924, 4.9848), (4.9848, 5.0771999999999995), (5.0771999999999995, 5.169599999999999), (5.169599999999999, 5.262), (5.262, 5.3544), (5.3544, 5.4468), (5.4468, 5.539199999999999), (5.539199999999999, 5.6316), (5.6316, 5.724), (5.724, 5.8164), (5.8164, 5.908799999999999), (5.908799999999999, 6.001199999999999), (6.001199999999999, 6.0935999999999995), (6.0935999999999995, 6.186), (6.186, 6.2783999999999995), (6.2783999999999995, 6.370799999999999), (6.370799999999999, 6.4632), (6.4632, 6.555599999999999), (6.555599999999999, 6.648), (6.648, 6.740399999999999), (6.740399999999999, 6.8328), (6.8328, 6.925199999999999), (6.925199999999999, 7.017599999999999), (7.017599999999999, 7.109999999999999)]\n"
     ]
    }
   ],
   "source": [
    "print(relativeFreq, intervals)"
   ]
  },
  {
   "cell_type": "markdown",
   "metadata": {},
   "source": [
    "**(20 pts) Make a plot with bin centroids on the $x$-axis and relative frequency on the $y$-axis.  Based on your results, please provide a few sentences describing whether the model $y = w_0 + w_1 x$ is a good fit to the data, if $x$ represents earthquake magnitude and $y$ represents relative frequency.**\n",
    "\n"
   ]
  },
  {
   "cell_type": "code",
   "execution_count": 5,
   "metadata": {},
   "outputs": [
    {
     "data": {
      "image/png": "[encoded data removed]",
      "text/plain": [
       "<Figure size 432x288 with 1 Axes>"
      ]
     },
     "metadata": {
      "needs_background": "light"
     },
     "output_type": "display_data"
    }
   ],
   "source": [
    "import matplotlib.pyplot as plt\n",
    "\n",
    "xs = [np.mean(pair) for pair in intervals]\n",
    "y = relativeFreq\n",
    "plt.bar(xs,y, width=(range_mag/50))\n",
    "plt.xlim(mag_min, mag_max)\n",
    "plt.title('Relative Frequency of Earthquake Magnitudes')\n",
    "plt.show()\n"
   ]
  },
  {
   "cell_type": "markdown",
   "metadata": {},
   "source": [
    "**ANSWER:**\n",
    "\n",
    "The model $y = w_0 + w_1 x$ does not fit the data because linear regression relies on the assumption that the data is linear, or follows a some-what linear trend. We can see from histogram of relative frequencies that the relationship is not linear. The frequencies for lower magnitude earthquakes are much higher than the frequencies for higher magnitude earthquakes. The rapid decrease of frequencies causes the plot to take on a curved shape which cannot be estimated from linear regression."
   ]
  },
  {
   "cell_type": "markdown",
   "metadata": {},
   "source": [
    "As it turns out, a physical model that gives the predicted relative frequency of earthquakes of different magnitudes can be derived from physics, and is given by a so-called *power-law*\n",
    "$$\n",
    "y = ax^b\n",
    "$$\n",
    "**(20pts) If you wanted to directly fit this power-law model to these data, would you be able to use the linear regression code that we've already developed to do so?  If so, how?  If not, why not?**\n",
    "\n",
    "**ANSWER:**\n",
    "\n",
    "It is not possible to fit the power-law mode using linear regression code because the linear regression code is a first-degree polynomial, in other words the power on the x is 1, making the model linear. To fit a model to these data, we would need a higher degree polynomial which will create the desired curve. "
   ]
  },
  {
   "cell_type": "markdown",
   "metadata": {},
   "source": [
    "As it turns out, it is not possible to use linear regression to fit this model directly.  However, it can be done by using a clever transformation of the data.  **(20pts) Plot the base-10 logarithm of the event counts.  Now does a linear model seem like a good fit?  If the power law is a good fit to the untransformed data, why does it make sense that a linear model should fit the log-transformed data (HINT: take the logarithm of both sides of the power law)**\n",
    "\n",
    "**(UPDATE!)** I should have noted this before: The earthquake magnitude $x$ has *already* been log-transformed, which is to say that a magnitude 7 is 10 times more powerful than a magnitude 6.  The power law stated above applies to the earthquake strength prior to it having the logarithm taken.  As such, a more reasonable way to state the question would be as follows: A physical model that gives the predicted relative frequency of earthquakes of different magnitudes can be derived from physics and is given by a so-called *power-law*\n",
    "$$\n",
    "y = a P^b,\n",
    "$$\n",
    "where $P=10^x$. Show that taking the logarithm of both sides of this equation leads to a linear relationship between the earthquake magnitude $x$ and the log-frequency $\\text{log}_{10}(y)$. "
   ]
  },
  {
   "cell_type": "code",
   "execution_count": 17,
   "metadata": {},
   "outputs": [
    {
     "name": "stdout",
     "output_type": "stream",
     "text": [
      "[0.43392169608480424, 0.24751237561878095, 0.12860643032151609, 0.079953997699885, 0.04865243262163108, 0.024551227561378067, 0.015800790039501977, 0.009250462523126156, 0.005500275013750688, 0.0030501525076253814, 0.0013500675033751687, 0.0005000250012500625, 0.000600030001500075, 0.00040002000100005, 5.000250012500625e-05, 0.0001000050002500125, 5.000250012500625e-05, 5.000250012500625e-05, 5.000250012500625e-05, 5.000250012500625e-05] [(2.49, 2.721), (2.721, 2.952), (2.952, 3.183), (3.183, 3.414), (3.414, 3.645), (3.645, 3.876), (3.876, 4.107), (4.107, 4.338), (4.338, 4.569), (4.569, 4.8), (4.8, 5.031), (5.031, 5.262), (5.262, 5.492999999999999), (5.492999999999999, 5.724), (5.724, 5.955), (5.955, 6.186), (6.186, 6.417), (6.417, 6.648), (6.648, 6.879), (6.879, 7.109999999999999)]\n"
     ]
    }
   ],
   "source": [
    "#Note there are some errors from dividing by zero since frequency = 0 in some bins so I made fewer bins\n",
    "\n",
    "relativeFreq2, intervals2 = frequency_in_intervals(20)\n",
    "print(relativeFreq2, intervals2)"
   ]
  },
  {
   "cell_type": "code",
   "execution_count": 20,
   "metadata": {},
   "outputs": [
    {
     "data": {
      "image/png": "[encoded data removed]",
      "text/plain": [
       "<Figure size 432x288 with 1 Axes>"
      ]
     },
     "metadata": {
      "needs_background": "light"
     },
     "output_type": "display_data"
    }
   ],
   "source": [
    "transformation = np.log(relativeFreq2)\n",
    "xs = [np.mean(pair) for pair in intervals2]\n",
    "plt.bar(xs,transformation, width=(range_mag/20))\n",
    "plt.show()"
   ]
  },
  {
   "cell_type": "markdown",
   "metadata": {},
   "source": [
    "**ANSWER:**\n",
    "\n",
    "If we sub in $10^x$ for P in $y = a P^b$ we get $y = a (10^x)^b$. Taking the log of both sides and applying some logarithmic identities gives $\\text{log}(y) = \\text{log}(a) + bx$ since $\\text{log}(10^x) = x$. Thus we have a linear relationship we can use to model the frequency of earthquake magnitudes."
   ]
  },
  {
   "cell_type": "markdown",
   "metadata": {},
   "source": [
    "Finally, **(40pts) use one of the methods that you developed for linear regression in class to fit a line to the log-transformed counts.  What is the slope of that line?  Is the model a good fit for all sizes of earthquake?**\n",
    "\n",
    "**ANSWERS:**\n",
    "\n",
    "Using the log transformed frequencies, the histogram appears linear which means we can apply a linear regression technique. With matrix operations to find our estimates of weights, or betas we get 4.8883 as the intercept and -2.2845 as the slope. Overlaying the equation of the line, $y = 4.8883 - 2.2845x$, we can see that it fits well for magnitudes of about 5 or less. Anything after that, our predictions get worse. This can be attributed to having to tweak the number of bins used but also because not many eartquakes happen at higher magnitudes. "
   ]
  },
  {
   "cell_type": "code",
   "execution_count": 9,
   "metadata": {},
   "outputs": [
    {
     "name": "stdout",
     "output_type": "stream",
     "text": [
      "[[4.88833975]] [[-2.28448007]]\n"
     ]
    },
    {
     "data": {
      "image/png": "[encoded data removed]",
      "text/plain": [
       "<Figure size 432x288 with 1 Axes>"
      ]
     },
     "metadata": {
      "needs_background": "light"
     },
     "output_type": "display_data"
    }
   ],
   "source": [
    "y = np.matrix(transformation).T\n",
    "\n",
    "magIntervals = [np.mean(pair) for pair in intervals2]\n",
    "magnitude = np.matrix(magIntervals).T\n",
    "ones = np.matrix(np.ones((len(magnitude)))).T\n",
    "\n",
    "\n",
    "X = np.hstack((ones, magnitude))\n",
    "beta_hat = np.linalg.solve((X.T*X),(X.T*y))\n",
    "print(beta_hat[0],beta_hat[1])\n",
    "\n",
    "xs = [np.mean(pair) for pair in intervals2]\n",
    "ys = np.matrix(beta_hat[1]*xs+beta_hat[0]).T\n",
    "\n",
    "\n",
    "plt.bar(xs,transformation, width=(range_mag/20))\n",
    "plt.plot(xs, ys,'r-')\n",
    "plt.show()"
   ]
  },
  {
   "cell_type": "code",
   "execution_count": null,
   "metadata": {},
   "outputs": [],
   "source": []
  }
 ],
 "metadata": {
  "kernelspec": {
   "display_name": "Python 3",
   "language": "python",
   "name": "python3"
  },
  "language_info": {
   "codemirror_mode": {
    "name": "ipython",
    "version": 3
   },
   "file_extension": ".py",
   "mimetype": "text/x-python",
   "name": "python",
   "nbconvert_exporter": "python",
   "pygments_lexer": "ipython3",
   "version": "3.7.3"
  }
 },
 "nbformat": 4,
 "nbformat_minor": 2
}
